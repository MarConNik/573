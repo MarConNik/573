{
 "cells": [
  {
   "cell_type": "code",
   "execution_count": 74,
   "metadata": {},
   "outputs": [],
   "source": [
    "def structure_data(fi):\n",
    "    #print('Now on {}'.format(fi.split('//')[-1]))\n",
    "    with open(fi, 'r', encoding='utf-8') as f:\n",
    "        lines = [x.replace('\\n', '') for x in f.readlines()]\n",
    "        \n",
    "    \n",
    "    d = {}\n",
    "    cur_tweet = []\n",
    "    cur_num = '1'  # all files start with 1\n",
    "    cur_sentiment = 'positive'   # all files start positive\n",
    "    for i in range(1, len(lines)):\n",
    "        l = lines[i]\n",
    "        data = l.split('\\t')\n",
    "#         if 'train_14' in fi:\n",
    "#             print(len(lines))\n",
    "#             print(l)\n",
    "        if l == '' or l == '\\t':\n",
    "            \n",
    "            tweet_tokes = [x[0].lower() for x in cur_tweet]\n",
    "            tweet_langs = [x[1] for x in cur_tweet]\n",
    "            \n",
    "            # unlabeled doesn't have sentiments\n",
    "            if 'unlabeled' in fi:\n",
    "                d[cur_num] = {'tweet_tokens':tweet_tokes, 'tweet_langs':tweet_langs}\n",
    "            else:\n",
    "                d[cur_num] = {'tweet_tokens':tweet_tokes, 'tweet_langs':tweet_langs,'sentiment':cur_sentiment}\n",
    "        elif data[0].startswith('# sent_enum'):\n",
    "            cur_num = data[0].split('=')[-1].strip()\n",
    "            cur_sentiment = data[1]\n",
    "            cur_tweet = []\n",
    "        \n",
    "        # other format\n",
    "        elif data[0] == 'meta' and len(data) == 3:\n",
    "            if 'test' in fi:\n",
    "                cur_num = data[1]\n",
    "                cur_tweet = []\n",
    "            else:\n",
    "                try:\n",
    "                    cur_num = data[1].split('=')[-1].strip()\n",
    "                    cur_sentiment = data[2]\n",
    "                    cur_tweet = []\n",
    "                except:\n",
    "                    print('Error at tweet number {}'.format(i))\n",
    "                    pass\n",
    "        \n",
    "        \n",
    "        elif data[0] == 'meta' and len(data) == 2:\n",
    "            if 'test' in fi:\n",
    "                cur_num = data[1]\n",
    "                cur_tweet = []\n",
    "            else:\n",
    "                try:\n",
    "                    cur_num = data[1].split('=')[-1].strip()\n",
    "\n",
    "                    cur_sentiment = data[2]\n",
    "                    cur_tweet = []\n",
    "                except:\n",
    "                    #print('Error at tweet number {}'.format(i))\n",
    "                    pass\n",
    "        else:\n",
    "            \n",
    "            cur_tweet.append(data)\n",
    "    return d"
   ]
  },
  {
   "cell_type": "markdown",
   "metadata": {},
   "source": [
    "## Paths"
   ]
  },
  {
   "cell_type": "code",
   "execution_count": 77,
   "metadata": {},
   "outputs": [],
   "source": [
    "path = \"../data/Semeval_2020_task9_data/Spanglish/Spanglish_train.conll\"\n",
    "path1 = \"../data/Semeval_2020_task9_data/Spanglish/Spanglish_dev.conll\"\n",
    "path2 = \"../data/Semeval_2020_task9_data/Spanglish/Spanglish_test_conll_unlabeled.txt\"\n",
    "path3 = \"../data/Semeval_2020_task9_data/Hinglish/Hinglish_train_14k_split_conll.txt\"\n",
    "path4 = \"../data/Semeval_2020_task9_data/Hinglish/Hinglish_dev_3k_split_conll.txt\"\n",
    "path5 = \"../data/Semeval_2020_task9_data/Hinglish/Hinglish_test_unlabeled_conll_updated.txt\""
   ]
  },
  {
   "cell_type": "markdown",
   "metadata": {},
   "source": [
    "## Get longest tweet per path, by WHITE space"
   ]
  },
  {
   "cell_type": "code",
   "execution_count": 78,
   "metadata": {},
   "outputs": [
    {
     "name": "stdout",
     "output_type": "stream",
     "text": [
      "Max tweet length of Spanglish_train.conll: 40\n",
      "Max tweet length of Spanglish_dev.conll: 42\n",
      "Max tweet length of Spanglish_test_conll_unlabeled.txt: 40\n",
      "Max tweet length of Hinglish_train_14k_split_conll.txt: 56\n",
      "Max tweet length of Hinglish_dev_3k_split_conll.txt: 44\n",
      "Max tweet length of Hinglish_test_unlabeled_conll_updated.txt: 41\n"
     ]
    }
   ],
   "source": [
    "for p in [path,path1,path2,path3,path4,path5]:\n",
    "\n",
    "    d = structure_data(p)\n",
    "    max_l = 0\n",
    "    for x in d:\n",
    "        tokes = d[x]['tweet_tokens']\n",
    "        if len(tokes) > max_l:\n",
    "            max_l = len(tokes)\n",
    "    finame = p.split('/')[-1]\n",
    "    print('Max tweet length of {}: {}'.format(finame, max_l))"
   ]
  },
  {
   "cell_type": "markdown",
   "metadata": {},
   "source": [
    "## Get longest tweet by BERT Tokenization"
   ]
  },
  {
   "cell_type": "code",
   "execution_count": 79,
   "metadata": {},
   "outputs": [
    {
     "ename": "ModuleNotFoundError",
     "evalue": "No module named 'transformers'",
     "output_type": "error",
     "traceback": [
      "\u001b[1;31m---------------------------------------------------------------------------\u001b[0m",
      "\u001b[1;31mModuleNotFoundError\u001b[0m                       Traceback (most recent call last)",
      "\u001b[1;32m<ipython-input-79-f2274c504c14>\u001b[0m in \u001b[0;36m<module>\u001b[1;34m\u001b[0m\n\u001b[1;32m----> 1\u001b[1;33m \u001b[1;32mimport\u001b[0m \u001b[0mtorch\u001b[0m\u001b[1;33m,\u001b[0m \u001b[0mtransformers\u001b[0m\u001b[1;33m\u001b[0m\u001b[1;33m\u001b[0m\u001b[0m\n\u001b[0m\u001b[0;32m      2\u001b[0m \u001b[1;32mfrom\u001b[0m \u001b[0mtransformers\u001b[0m \u001b[1;32mimport\u001b[0m \u001b[0mBertTokenizer\u001b[0m\u001b[1;33m\u001b[0m\u001b[1;33m\u001b[0m\u001b[0m\n\u001b[0;32m      3\u001b[0m \u001b[1;33m\u001b[0m\u001b[0m\n\u001b[0;32m      4\u001b[0m \u001b[1;31m# Load the BERT tokenizer.\u001b[0m\u001b[1;33m\u001b[0m\u001b[1;33m\u001b[0m\u001b[1;33m\u001b[0m\u001b[0m\n\u001b[0;32m      5\u001b[0m \u001b[0mprint\u001b[0m\u001b[1;33m(\u001b[0m\u001b[1;34m'Loading BERT tokenizer...'\u001b[0m\u001b[1;33m)\u001b[0m\u001b[1;33m\u001b[0m\u001b[1;33m\u001b[0m\u001b[0m\n",
      "\u001b[1;31mModuleNotFoundError\u001b[0m: No module named 'transformers'"
     ]
    }
   ],
   "source": [
    "import torch, transformers\n",
    "from transformers import BertTokenizer\n",
    "\n",
    "# Load the BERT tokenizer.\n",
    "print('Loading BERT tokenizer...')\n",
    "tokenizer = BertTokenizer.from_pretrained('bert-base-multilingual-cased')\n",
    "\n",
    "for p in [path,path1,path2,path3,path4,path5]:\n",
    "\n",
    "    d = structure_data(p)\n",
    "    max_l = 0\n",
    "    for x in d:\n",
    "        tokes = ' '.join(d[x]['tweet_tokens'])\n",
    "        BERT_tokens = tokenizer.tokenize(tokes)\n",
    "        if len(BERT_tokens) > max_l:\n",
    "            max_l = len(BERT_tokens)\n",
    "    finame = p.split('/')[-1]\n",
    "    print('Max tweet length of {}: {}'.format(finame, max_l))"
   ]
  },
  {
   "cell_type": "code",
   "execution_count": null,
   "metadata": {},
   "outputs": [],
   "source": []
  }
 ],
 "metadata": {
  "kernelspec": {
   "display_name": "Python 3",
   "language": "python",
   "name": "python3"
  },
  "language_info": {
   "codemirror_mode": {
    "name": "ipython",
    "version": 3
   },
   "file_extension": ".py",
   "mimetype": "text/x-python",
   "name": "python",
   "nbconvert_exporter": "python",
   "pygments_lexer": "ipython3",
   "version": "3.7.4"
  }
 },
 "nbformat": 4,
 "nbformat_minor": 4
}
