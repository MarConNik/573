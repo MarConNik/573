{
 "cells": [
  {
   "cell_type": "code",
   "execution_count": 74,
   "metadata": {},
   "outputs": [],
   "source": [
    "def structure_data(fi):\n",
    "    #print('Now on {}'.format(fi.split('//')[-1]))\n",
    "    with open(fi, 'r', encoding='utf-8') as f:\n",
    "        lines = [x.replace('\\n', '') for x in f.readlines()]\n",
    "        \n",
    "    \n",
    "    d = {}\n",
    "    cur_tweet = []\n",
    "    cur_num = '1'  # all files start with 1\n",
    "    cur_sentiment = 'positive'   # all files start positive\n",
    "    for i in range(1, len(lines)):\n",
    "        l = lines[i]\n",
    "        data = l.split('\\t')\n",
    "#         if 'train_14' in fi:\n",
    "#             print(len(lines))\n",
    "#             print(l)\n",
    "        if l == '' or l == '\\t':\n",
    "            \n",
    "            tweet_tokes = [x[0].lower() for x in cur_tweet]\n",
    "            tweet_langs = [x[1] for x in cur_tweet]\n",
    "            \n",
    "            # unlabeled doesn't have sentiments\n",
    "            if 'unlabeled' in fi:\n",
    "                d[cur_num] = {'tweet_tokens':tweet_tokes, 'tweet_langs':tweet_langs}\n",
    "            else:\n",
    "                d[cur_num] = {'tweet_tokens':tweet_tokes, 'tweet_langs':tweet_langs,'sentiment':cur_sentiment}\n",
    "        elif data[0].startswith('# sent_enum'):\n",
    "            cur_num = data[0].split('=')[-1].strip()\n",
    "            cur_sentiment = data[1]\n",
    "            cur_tweet = []\n",
    "        \n",
    "        # other format\n",
    "        elif data[0] == 'meta' and len(data) == 3:\n",
    "            if 'test' in fi:\n",
    "                cur_num = data[1]\n",
    "                cur_tweet = []\n",
    "            else:\n",
    "                try:\n",
    "                    cur_num = data[1].split('=')[-1].strip()\n",
    "                    cur_sentiment = data[2]\n",
    "                    cur_tweet = []\n",
    "                except:\n",
    "                    print('Error at tweet number {}'.format(i))\n",
    "                    pass\n",
    "        \n",
    "        \n",
    "        elif data[0] == 'meta' and len(data) == 2:\n",
    "            if 'test' in fi:\n",
    "                cur_num = data[1]\n",
    "                cur_tweet = []\n",
    "            else:\n",
    "                try:\n",
    "                    cur_num = data[1].split('=')[-1].strip()\n",
    "\n",
    "                    cur_sentiment = data[2]\n",
    "                    cur_tweet = []\n",
    "                except:\n",
    "                    #print('Error at tweet number {}'.format(i))\n",
    "                    pass\n",
    "        else:\n",
    "            \n",
    "            cur_tweet.append(data)\n",
    "    return d"
   ]
  },
  {
   "cell_type": "markdown",
   "metadata": {},
   "source": [
    "## Paths"
   ]
  },
  {
   "cell_type": "code",
   "execution_count": 75,
   "metadata": {},
   "outputs": [],
   "source": [
    "path = \"../data/Semeval_2020_task9_data/Spanglish/Spanglish_test_conll_unlabeled.txt\"\n",
    "path1 = \"../data/Semeval_2020_task9_data/Spanglish/Spanglish_train.conll\"\n",
    "path2 = \"../data/Semeval_2020_task9_data/Spanglish/Spanglish_dev.conll\"\n",
    "path3 = \"../data/Semeval_2020_task9_data/Hinglish/Hinglish_train_14k_split_conll.txt\"\n",
    "path4 = \"../data/Semeval_2020_task9_data/Hinglish/Hinglish_test_unlabeled_conll_updated.txt\"\n",
    "path5 = \"../data/Semeval_2020_task9_data/Hinglish/Hinglish_dev_3k_split_conll.txt\""
   ]
  },
  {
   "cell_type": "markdown",
   "metadata": {},
   "source": [
    "## Get longest tweet per path"
   ]
  },
  {
   "cell_type": "code",
   "execution_count": 76,
   "metadata": {},
   "outputs": [
    {
     "name": "stdout",
     "output_type": "stream",
     "text": [
      "Max tweet length of Spanglish_test_conll_unlabeled.txt: 40\n",
      "Max tweet length of Spanglish_train.conll: 40\n",
      "Max tweet length of Spanglish_dev.conll: 42\n",
      "Max tweet length of Hinglish_train_14k_split_conll.txt: 56\n",
      "Max tweet length of Hinglish_test_unlabeled_conll_updated.txt: 41\n",
      "Max tweet length of Hinglish_dev_3k_split_conll.txt: 44\n"
     ]
    }
   ],
   "source": [
    "for p in [path,path1,path2,path3,path4,path5]:\n",
    "\n",
    "    d = structure_data(p)\n",
    "    max_l = 0\n",
    "    for x in d:\n",
    "        tokes = d[x]['tweet_tokens']\n",
    "        if len(tokes) > max_l:\n",
    "            max_l = len(tokes)\n",
    "    finame = p.split('/')[-1]\n",
    "    print('Max tweet length of {}: {}'.format(finame, max_l))"
   ]
  }
 ],
 "metadata": {
  "kernelspec": {
   "display_name": "Python 3",
   "language": "python",
   "name": "python3"
  },
  "language_info": {
   "codemirror_mode": {
    "name": "ipython",
    "version": 3
   },
   "file_extension": ".py",
   "mimetype": "text/x-python",
   "name": "python",
   "nbconvert_exporter": "python",
   "pygments_lexer": "ipython3",
   "version": "3.7.4"
  }
 },
 "nbformat": 4,
 "nbformat_minor": 4
}
