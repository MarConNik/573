{
 "cells": [
  {
   "cell_type": "code",
   "execution_count": 13,
   "metadata": {},
   "outputs": [],
   "source": [
    "path = \"../data/Semeval_2020_task9_data/Spanglish/Spanglish_dev.conll\""
   ]
  },
  {
   "cell_type": "code",
   "execution_count": 14,
   "metadata": {},
   "outputs": [],
   "source": [
    "def structure_data(fi):\n",
    "    print('Now on {}'.format(fi.split('//')[-1]))\n",
    "    with open(fi, 'r', encoding='utf-8') as f:\n",
    "        lines = [x.replace('\\n', '') for x in f.readlines()]\n",
    "        \n",
    "    \n",
    "    d = {}\n",
    "    cur_tweet = []\n",
    "    cur_num = '1'  # all files start with 1\n",
    "    cur_sentiment = 'positive'   # all files start positive\n",
    "    for i in range(1, len(lines)):\n",
    "        l = lines[i]\n",
    "        data = l.split('\\t')\n",
    "        if l == '' or l == '\\t':\n",
    "            \n",
    "            tweet_tokes = [x[0].lower() for x in cur_tweet]\n",
    "            tweet_langs = [x[1] for x in cur_tweet]\n",
    "            \n",
    "            # unlabeled doesn't have sentiments\n",
    "            if 'unlabeled' in fi:\n",
    "                d[cur_num] = {'tweet_tokens':tweet_tokes, 'tweet_langs':tweet_langs}\n",
    "            else:\n",
    "                d[cur_num] = {'tweet_tokens':tweet_tokes, 'tweet_langs':tweet_langs,'sentiment':cur_sentiment}\n",
    "        elif data[0].startswith('# sent_enum'):\n",
    "            cur_num = data[0].split('=')[-1].strip()\n",
    "            cur_sentiment = data[1]\n",
    "            cur_tweet = []\n",
    "        \n",
    "        # other format\n",
    "        elif data[0] == 'meta' and len(data) == 3:\n",
    "            if 'unlabeled' in fi:\n",
    "                cur_num = data[1]\n",
    "                cur_tweet = []\n",
    "            else:\n",
    "                try:\n",
    "                    cur_num = data[1].split('=')[-1].strip()\n",
    "\n",
    "                    cur_sentiment = data[2]\n",
    "                    cur_tweet = []\n",
    "                except:\n",
    "                    print(i)\n",
    "        \n",
    "        else:\n",
    "            cur_tweet.append(data)\n",
    "    return d"
   ]
  },
  {
   "cell_type": "code",
   "execution_count": 15,
   "metadata": {},
   "outputs": [
    {
     "name": "stdout",
     "output_type": "stream",
     "text": [
      "Now on ../data/Semeval_2020_task9_data/Spanglish/Spanglish_dev.conll\n"
     ]
    }
   ],
   "source": [
    "d = structure_data(path)"
   ]
  },
  {
   "cell_type": "code",
   "execution_count": 16,
   "metadata": {},
   "outputs": [],
   "source": [
    "max_l = 0\n",
    "for x in d:\n",
    "    tokes = d[x]['tweet_tokens']\n",
    "    if len(tokes) > max_l:\n",
    "        max_l = len(tokes)"
   ]
  },
  {
   "cell_type": "code",
   "execution_count": 17,
   "metadata": {},
   "outputs": [
    {
     "data": {
      "text/plain": [
       "42"
      ]
     },
     "execution_count": 17,
     "metadata": {},
     "output_type": "execute_result"
    }
   ],
   "source": [
    "max_l"
   ]
  }
 ],
 "metadata": {
  "kernelspec": {
   "display_name": "Python 3",
   "language": "python",
   "name": "python3"
  },
  "language_info": {
   "codemirror_mode": {
    "name": "ipython",
    "version": 3
   },
   "file_extension": ".py",
   "mimetype": "text/x-python",
   "name": "python",
   "nbconvert_exporter": "python",
   "pygments_lexer": "ipython3",
   "version": "3.7.4"
  }
 },
 "nbformat": 4,
 "nbformat_minor": 4
}
