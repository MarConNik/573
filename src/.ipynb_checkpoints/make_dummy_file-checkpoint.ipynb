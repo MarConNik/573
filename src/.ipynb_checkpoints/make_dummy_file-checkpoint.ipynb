{
 "cells": [
  {
   "cell_type": "code",
   "execution_count": 29,
   "metadata": {},
   "outputs": [],
   "source": [
    "import sklearn\n",
    "import sklearn.metrics\n",
    "from sklearn.metrics import f1_score"
   ]
  },
  {
   "cell_type": "code",
   "execution_count": 30,
   "metadata": {},
   "outputs": [],
   "source": [
    "\n",
    "def format_tweets_for_evaluation(d):\n",
    "    # d is a dictionary of tweets\n",
    "    formatted = []\n",
    "    for ID in d:\n",
    "        formatted.append((ID,d[ID]['sentiment']))\n",
    "    return formatted"
   ]
  },
  {
   "cell_type": "code",
   "execution_count": 31,
   "metadata": {},
   "outputs": [],
   "source": [
    "def get_f1_from_results(sys_out_path, actual_label_path):\n",
    "\n",
    "    with open(sys_out_path, 'r', encoding='utf-8') as f:\n",
    "        sys_out = [x.replace('\\n','').split(',') for x in f.readlines()]\n",
    "        \n",
    "    with open(actual_label_path, 'r', encoding='utf-8') as f:\n",
    "        actual_labels = [x.replace('\\n','').split(',') for x in f.readlines()]\n",
    "\n",
    "    if len(sys_out) != len(actual_labels):\n",
    "        print('it appears that the system_out predictions are of different length than the actual labels...exiting?')\n",
    "    else:\n",
    "        predicted = []\n",
    "        actual = []\n",
    "        for i in range(1,len(sys_out)):\n",
    "            if sys_out[i][0] != actual_labels[i][0]:\n",
    "                print('Hold on their tiger, these IDs don''t match up! lines {} in system and gold files'.format(i))\n",
    "                print(sys_out[i][0])\n",
    "                print(actual_labels[i][0])\n",
    "            else:\n",
    "                # everything is jolly!\n",
    "                ######### Classes are as follows: #######\n",
    "                # positive = 0\n",
    "                # neutral = 1\n",
    "                # negative = 2\n",
    "                pred = sys_out[i][1]\n",
    "                actu = actual_labels[i][1]\n",
    "                if pred == 'positive':\n",
    "                    predicted.append(0)\n",
    "                elif pred == 'neutral':\n",
    "                    predicted.append(1)\n",
    "                else:\n",
    "                    predicted.append(2)\n",
    "                if actu == 'positive':\n",
    "                    actual.append(0)\n",
    "                elif actu == 'neutral':\n",
    "                    actual.append(1)\n",
    "                else:\n",
    "                    actual.append(2)\n",
    "    print(len(actual), len(predicted))\n",
    "#these are just samples from https://scikit-learn.org/stable/modules/generated/sklearn.metrics.f1_score.html\n",
    "    #actual = [0, 1, 2, 0, 1, 2]\n",
    "    #predicted = [0, 2, 1, 0, 0, 1]\n",
    "    score = f1_score(actual, predicted, average='weighted')\n",
    "    \n",
    "    return score"
   ]
  },
  {
   "cell_type": "code",
   "execution_count": 32,
   "metadata": {},
   "outputs": [],
   "source": [
    "def structure_data(fi):\n",
    "    print('Now on {}'.format(fi.split('//')[-1]))\n",
    "    with open(fi, 'r', encoding='utf-8') as f:\n",
    "        lines = [x.replace('\\n', '') for x in f.readlines()]\n",
    "        \n",
    "    \n",
    "    d = {}\n",
    "    cur_tweet = []\n",
    "    cur_num = '1'  # all files start with 1\n",
    "    cur_sentiment = 'positive'   # all files start positive\n",
    "    for i in range(1, len(lines)):\n",
    "        l = lines[i]\n",
    "        data = l.split('\\t')\n",
    "        if l == '' or l == '\\t':\n",
    "            \n",
    "            tweet_tokes = [x[0].lower() for x in cur_tweet]\n",
    "            tweet_langs = [x[1] for x in cur_tweet]\n",
    "            \n",
    "            # unlabeled doesn't have sentiments\n",
    "            if 'unlabeled' in fi:\n",
    "                d[cur_num] = {'tweet_tokens':tweet_tokes, 'tweet_langs':tweet_langs}\n",
    "            else:\n",
    "                d[cur_num] = {'tweet_tokens':tweet_tokes, 'tweet_langs':tweet_langs,'sentiment':cur_sentiment}\n",
    "        elif data[0].startswith('# sent_enum'):\n",
    "            cur_num = data[0].split('=')[-1].strip()\n",
    "            cur_sentiment = data[1]\n",
    "            cur_tweet = []\n",
    "        \n",
    "        # other format\n",
    "        elif data[0] == 'meta' and len(data) == 3:\n",
    "            if 'unlabeled' in fi:\n",
    "                cur_num = data[1]\n",
    "                cur_tweet = []\n",
    "            else:\n",
    "                try:\n",
    "                    cur_num = data[1].split('=')[-1].strip()\n",
    "\n",
    "                    cur_sentiment = data[2]\n",
    "                    cur_tweet = []\n",
    "                except:\n",
    "                    print(i)\n",
    "        \n",
    "        else:\n",
    "            cur_tweet.append(data)\n",
    "    return d"
   ]
  },
  {
   "cell_type": "code",
   "execution_count": 33,
   "metadata": {},
   "outputs": [],
   "source": [
    "def make_sys_out_and_dummy_file(dev_d, dev_file_path):\n",
    "    out = dev_file_path.replace('dev', 'dev_dummy_sys')\n",
    "    with open(out, 'w', encoding='utf-8') as fi:\n",
    "        fi.write('Uid,Sentiment\\n')\n",
    "        for ID in dev_d:\n",
    "            fi.write('{},{}\\n'.format(ID, 'positive'))\n",
    "    out = dev_file_path.replace('dev', 'dev_gold_labels')\n",
    "    with open(out, 'w', encoding='utf-8') as fi:\n",
    "        fi.write('Uid,Sentiment\\n')\n",
    "        for ID in dev_d:\n",
    "            fi.write('{},{}\\n'.format(ID, dev_d[ID]['sentiment']))"
   ]
  },
  {
   "cell_type": "code",
   "execution_count": 34,
   "metadata": {},
   "outputs": [
    {
     "name": "stdout",
     "output_type": "stream",
     "text": [
      "Now on ../data/Semeval_2020_task9_data/Spanglish/Spanglish_dev.conll\n"
     ]
    }
   ],
   "source": [
    "\n",
    "dev_tweet_path = '../data/Semeval_2020_task9_data/Spanglish/Spanglish_dev.conll'\n",
    "dev_d = structure_data(dev_tweet_path)\n",
    "make_sys_out_and_dummy_file(dev_d, dev_tweet_path)"
   ]
  },
  {
   "cell_type": "code",
   "execution_count": 35,
   "metadata": {},
   "outputs": [
    {
     "name": "stdout",
     "output_type": "stream",
     "text": [
      "2998 2998\n"
     ]
    },
    {
     "data": {
      "text/plain": [
       "0.332962781830829"
      ]
     },
     "execution_count": 35,
     "metadata": {},
     "output_type": "execute_result"
    }
   ],
   "source": [
    "get_f1_from_results(dev_tweet_path.replace('dev', 'dev_dummy_sys'), dev_tweet_path.replace('dev', 'dev_gold_labels'))"
   ]
  },
  {
   "cell_type": "code",
   "execution_count": null,
   "metadata": {},
   "outputs": [],
   "source": []
  }
 ],
 "metadata": {
  "kernelspec": {
   "display_name": "Python 3",
   "language": "python",
   "name": "python3"
  },
  "language_info": {
   "codemirror_mode": {
    "name": "ipython",
    "version": 3
   },
   "file_extension": ".py",
   "mimetype": "text/x-python",
   "name": "python",
   "nbconvert_exporter": "python",
   "pygments_lexer": "ipython3",
   "version": "3.7.4"
  }
 },
 "nbformat": 4,
 "nbformat_minor": 4
}
