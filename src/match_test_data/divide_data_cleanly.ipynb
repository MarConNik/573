{
 "cells": [
  {
   "cell_type": "code",
   "execution_count": 1,
   "metadata": {},
   "outputs": [],
   "source": [
    "# this script removes \"test\" tweets from \"dev\" and \"train\" to reduce overfitting\n",
    "# prouces cleaned 'dev' and 'train' files to accompany 'test'"
   ]
  },
  {
   "cell_type": "code",
   "execution_count": 91,
   "metadata": {},
   "outputs": [],
   "source": [
    "train_con_fi = '../../data/Semeval_2020_task9_data/Spanglish/train.conll'\n",
    "sp_test_fi = '../../data/Semeval_2020_task9_data/Spanglish/Spanglish_test_conll_labeled.txt'\n",
    "sp_dev_fi = '../../data/Semeval_2020_task9_data/Spanglish/Spanglish_dev.conll'\n",
    "sp_train_con_fi = '../../data/Semeval_2020_task9_data/Spanglish/Spanglish_train.conll'"
   ]
  },
  {
   "cell_type": "code",
   "execution_count": 92,
   "metadata": {},
   "outputs": [],
   "source": [
    "def structure_data(fi):\n",
    "    print('Now on {}'.format(fi.split('//')[-1]))\n",
    "    with open(fi, 'r', encoding='utf-8') as f:\n",
    "        lines = [x.replace('\\n', '') for x in f.readlines()]\n",
    "        \n",
    "    d = {}\n",
    "    cur_tweet = []\n",
    "    cur_num = '1'  # all files start with 1\n",
    "    cur_sentiment = 'positive'   # all files start positive\n",
    "    for i in range(1, len(lines)):\n",
    "        l = lines[i]\n",
    "        data = l.split('\\t')\n",
    "        if l == '' or l == '\\t':\n",
    "            \n",
    "            tweet_tokes = [x[0].lower() for x in cur_tweet]\n",
    "            tweet_langs = [x[1] for x in cur_tweet]\n",
    "            \n",
    "            # unlabeled doesn't have sentiments\n",
    "            if 'unlabeled' in fi:\n",
    "                d[cur_num] = {'tweet_tokens':tweet_tokes, 'tweet_langs':tweet_langs}\n",
    "            else:\n",
    "                d[cur_num] = {'tweet_tokens':tweet_tokes, 'tweet_langs':tweet_langs,'sentiment':cur_sentiment}\n",
    "        elif data[0].startswith('# sent_enum'):\n",
    "            cur_num = data[0].split('=')[-1].strip()\n",
    "            cur_sentiment = data[1]\n",
    "            cur_tweet = []\n",
    "        \n",
    "        # other format\n",
    "        elif data[0] == 'meta':\n",
    "            if 'labeled' in fi:\n",
    "                cur_num = data[1]\n",
    "                cur_tweet = []\n",
    "            else:\n",
    "                cur_num = data[0].split('=')[-1].strip()\n",
    "                cur_sentiment = data[1]\n",
    "                cur_tweet = []\n",
    "        \n",
    "        else:\n",
    "            cur_tweet.append(data)\n",
    "    return d\n"
   ]
  },
  {
   "cell_type": "code",
   "execution_count": 93,
   "metadata": {},
   "outputs": [
    {
     "name": "stdout",
     "output_type": "stream",
     "text": [
      "Now on ../../data/Semeval_2020_task9_data/Spanglish/train.conll\n",
      "Now on ../../data/Semeval_2020_task9_data/Spanglish/Spanglish_test_conll_labeled.txt\n",
      "Now on ../../data/Semeval_2020_task9_data/Spanglish/Spanglish_dev.conll\n",
      "Now on ../../data/Semeval_2020_task9_data/Spanglish/Spanglish_train.conll\n"
     ]
    }
   ],
   "source": [
    "train_con_d = structure_data(train_con_fi)\n",
    "sp_test_d = structure_data(sp_test_fi)\n",
    "sp_dev_d = structure_data(sp_dev_fi)\n",
    "sp_train_con_d = structure_data(sp_train_con_fi)"
   ]
  },
  {
   "cell_type": "code",
   "execution_count": 94,
   "metadata": {},
   "outputs": [],
   "source": [
    "train_outs = []\n",
    "# train file\n",
    "to_remove = []\n",
    "for k in train_con_d:\n",
    "    tweet_tokens = train_con_d[k]['tweet_tokens']\n",
    "    tweet_langs = train_con_d[k]['tweet_langs']\n",
    "    sentiment = train_con_d[k]['sentiment']\n",
    "    \n",
    "    for j in sp_test_d:\n",
    "        test_tweet_tokens = sp_test_d[j]['tweet_tokens']\n",
    "        if tweet_tokens == test_tweet_tokens:\n",
    "            to_remove.append(k)\n",
    "            break\n",
    "\n",
    "for k in train_con_d:\n",
    "    if k not in to_remove:\n",
    "        val = train_con_d[k]['sentiment']\n",
    "\n",
    "        train_outs.append('{}\\t{}\\t{}'.format('meta',k,val))\n",
    "        tts = train_con_d[k]['tweet_tokens']\n",
    "        tls = train_con_d[k]['tweet_langs']\n",
    "        for i in range(len(tts)):\n",
    "            train_outs.append('{}\\t{}'.format(tts[i],tls[i]))\n",
    "        train_outs.append('')\n",
    "            "
   ]
  },
  {
   "cell_type": "code",
   "execution_count": 95,
   "metadata": {},
   "outputs": [
    {
     "data": {
      "text/plain": [
       "2153"
      ]
     },
     "execution_count": 95,
     "metadata": {},
     "output_type": "execute_result"
    }
   ],
   "source": [
    "len(to_remove)"
   ]
  },
  {
   "cell_type": "code",
   "execution_count": 96,
   "metadata": {},
   "outputs": [
    {
     "name": "stdout",
     "output_type": "stream",
     "text": [
      "0\n"
     ]
    }
   ],
   "source": [
    "dev_outs = []\n",
    "# dev file\n",
    "to_remove_dev = []\n",
    "for k in sp_dev_d:\n",
    "    tweet_tokens = sp_dev_d[k]['tweet_tokens']\n",
    "    tweet_langs = sp_dev_d[k]['tweet_langs']\n",
    "    sentiment = sp_dev_d[k]['sentiment']\n",
    "    \n",
    "    for j in sp_test_d:\n",
    "        test_tweet_tokens = sp_test_d[j]['tweet_tokens']\n",
    "        if tweet_tokens == test_tweet_tokens:\n",
    "            to_remove_dev.append(k)\n",
    "            break\n",
    "\n",
    "for k in sp_dev_d:\n",
    "    if k not in to_remove_dev:\n",
    "        val = sp_dev_d[k]['sentiment']\n",
    "\n",
    "        dev_outs.append('{}\\t{}\\t{}'.format('meta',k,val))\n",
    "        tts = sp_dev_d[k]['tweet_tokens']\n",
    "        tls = sp_dev_d[k]['tweet_langs']\n",
    "        for i in range(len(tts)):\n",
    "            dev_outs.append('{}\\t{}'.format(tts[i],tls[i]))\n",
    "        dev_outs.append('')\n",
    "print(len(to_remove_dev))"
   ]
  },
  {
   "cell_type": "code",
   "execution_count": 97,
   "metadata": {},
   "outputs": [],
   "source": [
    "sp_train_outs = []\n",
    "# sp_train file\n",
    "sp_to_remove = []\n",
    "for k in sp_train_con_d:\n",
    "    tweet_tokens = sp_train_con_d[k]['tweet_tokens']\n",
    "    tweet_langs = sp_train_con_d[k]['tweet_langs']\n",
    "    sentiment = sp_train_con_d[k]['sentiment']\n",
    "    \n",
    "    for j in sp_test_d:\n",
    "        test_tweet_tokens = sp_test_d[j]['tweet_tokens']\n",
    "        if tweet_tokens == test_tweet_tokens:\n",
    "            sp_to_remove.append(k)\n",
    "            break\n",
    "\n",
    "for k in sp_train_con_d:\n",
    "    if k not in sp_to_remove:\n",
    "        val = sp_train_con_d[k]['sentiment']\n",
    "\n",
    "        sp_train_outs.append('{}\\t{}\\t{}'.format('meta',k,val))\n",
    "        tts = sp_train_con_d[k]['tweet_tokens']\n",
    "        tls = sp_train_con_d[k]['tweet_langs']\n",
    "        for i in range(len(tts)):\n",
    "            sp_train_outs.append('{}\\t{}'.format(tts[i],tls[i]))\n",
    "        sp_train_outs.append('')\n",
    "            "
   ]
  },
  {
   "cell_type": "code",
   "execution_count": 98,
   "metadata": {},
   "outputs": [
    {
     "data": {
      "text/plain": [
       "0"
      ]
     },
     "execution_count": 98,
     "metadata": {},
     "output_type": "execute_result"
    }
   ],
   "source": [
    "len(sp_to_remove)"
   ]
  },
  {
   "cell_type": "code",
   "execution_count": 99,
   "metadata": {},
   "outputs": [],
   "source": [
    "train_con_fi_clean = '../../data/Semeval_2020_task9_data/Spanglish/train_clean.conll'\n",
    "with open(train_con_fi_clean, 'w', encoding='utf-8') as f:\n",
    "    for x in train_outs:\n",
    "        f.write('{}\\n'.format(x))"
   ]
  },
  {
   "cell_type": "code",
   "execution_count": null,
   "metadata": {},
   "outputs": [],
   "source": []
  }
 ],
 "metadata": {
  "kernelspec": {
   "display_name": "Python 3",
   "language": "python",
   "name": "python3"
  },
  "language_info": {
   "codemirror_mode": {
    "name": "ipython",
    "version": 3
   },
   "file_extension": ".py",
   "mimetype": "text/x-python",
   "name": "python",
   "nbconvert_exporter": "python",
   "pygments_lexer": "ipython3",
   "version": "3.7.4"
  }
 },
 "nbformat": 4,
 "nbformat_minor": 4
}
