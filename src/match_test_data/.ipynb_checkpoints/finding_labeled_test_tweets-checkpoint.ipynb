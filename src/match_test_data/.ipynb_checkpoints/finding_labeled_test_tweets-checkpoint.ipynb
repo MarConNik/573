{
 "cells": [
  {
   "cell_type": "code",
   "execution_count": 1,
   "metadata": {},
   "outputs": [],
   "source": [
    "## This script compares Spanglish_test_conll_unlabeled \n",
    "## with tweets found in dev, train, and sp_train\n",
    "## to see if the labeled data exists"
   ]
  },
  {
   "cell_type": "code",
   "execution_count": 6,
   "metadata": {},
   "outputs": [],
   "source": [
    "train_con_fi = '../data/Semeval_2020_task9_data/Spanglish/train.conll'\n",
    "sp_train_con_fi = '../data/Semeval_2020_task9_data/Spanglish/Spanglish_train.conll'\n",
    "sp_test_fi = '../data/Semeval_2020_task9_data/Spanglish/Spanglish_test_conll_unlabeled.txt'\n",
    "sp_dev_fi = '../data/Semeval_2020_task9_data/Spanglish/Spanglish_dev.conll'"
   ]
  },
  {
   "cell_type": "code",
   "execution_count": 7,
   "metadata": {},
   "outputs": [],
   "source": [
    "def structure_data(fi):\n",
    "    print('Now on {}'.format(fi.split('//')[-1]))\n",
    "    with open(fi, 'r', encoding='utf-8') as f:\n",
    "        lines = [x.replace('\\n', '') for x in f.readlines()]\n",
    "        \n",
    "    d = {}\n",
    "    cur_tweet = []\n",
    "    cur_num = '1'  # all files start with 1\n",
    "    cur_sentiment = 'positive'   # all files start positive\n",
    "    for i in range(1, len(lines)):\n",
    "        l = lines[i]\n",
    "        data = l.split('\\t')\n",
    "        if l == '' or l == '\\t':\n",
    "            \n",
    "            tweet_tokes = [x[0].lower() for x in cur_tweet]\n",
    "            tweet_langs = [x[1] for x in cur_tweet]\n",
    "            \n",
    "            # unlabeled doesn't have sentiments\n",
    "            if 'unlabeled' in fi:\n",
    "                d[cur_num] = {'tweet_tokens':tweet_tokes, 'tweet_langs':tweet_langs}\n",
    "            else:\n",
    "                d[cur_num] = {'tweet_tokens':tweet_tokes, 'tweet_langs':tweet_langs,'sentiment':cur_sentiment}\n",
    "        elif data[0].startswith('# sent_enum'):\n",
    "            cur_num = data[0].split('=')[-1].strip()\n",
    "            cur_sentiment = data[1]\n",
    "            cur_tweet = []\n",
    "        \n",
    "        # other format\n",
    "        elif data[0] == 'meta':\n",
    "            if 'unlabeled' in fi:\n",
    "                cur_num = data[1]\n",
    "                cur_tweet = []\n",
    "            else:\n",
    "                cur_num = data[0].split('=')[-1].strip()\n",
    "                cur_sentiment = data[1]\n",
    "                cur_tweet = []\n",
    "        \n",
    "        else:\n",
    "            cur_tweet.append(data)\n",
    "    return d\n"
   ]
  },
  {
   "cell_type": "code",
   "execution_count": 8,
   "metadata": {},
   "outputs": [
    {
     "name": "stdout",
     "output_type": "stream",
     "text": [
      "Now on ../../data/Semeval_2020_task9_data/Spanglish/train.conll\n",
      "Now on ../../data/Semeval_2020_task9_data/Spanglish/Spanglish_train.conll\n",
      "Now on ../../data/Semeval_2020_task9_data/Spanglish/Spanglish_test_conll_unlabeled.txt\n",
      "Now on ../../data/Semeval_2020_task9_data/Spanglish/Spanglish_dev.conll\n"
     ]
    }
   ],
   "source": [
    "train_con_d = structure_data(train_con_fi)\n",
    "sp_train_con_d = structure_data(sp_train_con_fi)\n",
    "sp_test_d = structure_data(sp_test_fi)\n",
    "sp_dev_d = structure_data(sp_dev_fi)"
   ]
  },
  {
   "cell_type": "code",
   "execution_count": 9,
   "metadata": {},
   "outputs": [
    {
     "name": "stdout",
     "output_type": "stream",
     "text": [
      "12191\n"
     ]
    },
    {
     "data": {
      "text/plain": [
       "{'tweet_tokens': ['after',\n",
       "  'this',\n",
       "  'i',\n",
       "  \"'m\",\n",
       "  'just',\n",
       "  'gonna',\n",
       "  'go',\n",
       "  'home',\n",
       "  'drink',\n",
       "  'summ',\n",
       "  'hot',\n",
       "  'chocolate',\n",
       "  'con',\n",
       "  'bolillo',\n",
       "  'and',\n",
       "  'sleep'],\n",
       " 'tweet_langs': ['lang1',\n",
       "  'lang1',\n",
       "  'lang1',\n",
       "  'lang1',\n",
       "  'lang1',\n",
       "  'lang1',\n",
       "  'lang1',\n",
       "  'lang1',\n",
       "  'lang1',\n",
       "  'lang1',\n",
       "  'lang1',\n",
       "  'ambiguous',\n",
       "  'lang2',\n",
       "  'lang2',\n",
       "  'lang1',\n",
       "  'lang1'],\n",
       " 'sentiment': 'positive'}"
      ]
     },
     "execution_count": 9,
     "metadata": {},
     "output_type": "execute_result"
    }
   ],
   "source": [
    "print(len(train_con_d))\n",
    "train_con_d['1']"
   ]
  },
  {
   "cell_type": "markdown",
   "metadata": {},
   "source": [
    "## Compare train_conll to sp_test"
   ]
  },
  {
   "cell_type": "code",
   "execution_count": 10,
   "metadata": {},
   "outputs": [],
   "source": [
    "# uses heuristics: \n",
    "# if two tweets have identical first 5 words and the same length exactly, they are assumed to be same tweet\n",
    "# if two tweets have identical last 3 words and the same length exactly, also assumed identical\n",
    "# this helps with the shitty encoding"
   ]
  },
  {
   "cell_type": "code",
   "execution_count": 11,
   "metadata": {},
   "outputs": [],
   "source": [
    "com = {}\n",
    "count = 0\n",
    "for k in sp_test_d:\n",
    "    test_tokes = sp_test_d[k]['tweet_tokens']\n",
    "    found = False\n",
    "    for k2 in sp_train_con_d:\n",
    "        sp_train_con_tokes = sp_train_con_d[k2]['tweet_tokens']\n",
    "        if test_tokes[:5] == sp_train_con_tokes[:5] and len(test_tokes) == len(sp_train_con_tokes):\n",
    "            com[count+1] = {}\n",
    "            com[count+1][('test',k)] = sp_test_d[k]\n",
    "            com[count+1][('sp_train',k2)] = sp_train_con_d[k2]\n",
    "            count+=1\n",
    "            found = True\n",
    "            break\n",
    "        elif test_tokes[-3:] == sp_train_con_tokes[-3:] and len(test_tokes) == len(sp_train_con_tokes):\n",
    "            com[count+1] = {}\n",
    "            com[count+1][('test',k)] = sp_test_d[k]\n",
    "            com[count+1][('sp_train', k2)] = sp_train_con_d[k2]\n",
    "            count+=1\n",
    "            found = True\n",
    "            break\n",
    "    if found == False:\n",
    "        for k2 in train_con_d:\n",
    "            train_con_tokes = train_con_d[k2]['tweet_tokens']\n",
    "            if test_tokes[:5] == train_con_tokes[:5]  and len(test_tokes) == len(train_con_tokes):\n",
    "                com[count+1] = {}\n",
    "                com[count+1][('test',k)] = sp_test_d[k]\n",
    "                com[count+1][('train',k2)] = train_con_d[k2]\n",
    "                count+=1\n",
    "                found = True\n",
    "                break\n",
    "            elif test_tokes[-3:] == train_con_tokes[-3:] and len(test_tokes) == len(train_con_tokes):\n",
    "                com[count+1] = {}\n",
    "                com[count+1][('test',k)] = sp_test_d[k]\n",
    "                com[count+1][('train', k2)] = train_con_d[k2]\n",
    "                count+=1\n",
    "                found = True\n",
    "                break\n",
    "    if found == False:\n",
    "        for k2 in sp_dev_d:\n",
    "            dev_tokes = sp_dev_d[k2]['tweet_tokens']\n",
    "            if test_tokes[:5] == dev_tokes[:5]  and len(test_tokes) == len(dev_tokes):\n",
    "                com[count+1] = {}\n",
    "                com[count+1][('test',k)] = sp_test_d[k]\n",
    "                com[count+1][('dev', k2)] = sp_dev_d[k2]\n",
    "                count+=1\n",
    "                found = True\n",
    "                break\n",
    "            elif test_tokes[-3:] == dev_tokes[-3:] and len(test_tokes) == len(dev_tokes):\n",
    "                com[count+1] = {}\n",
    "                com[count+1][('test',k)] = sp_test_d[k]\n",
    "                com[count+1][('dev', k2)] = sp_dev_d[k2]\n",
    "                count+=1\n",
    "                found = True\n",
    "                break\n",
    "        "
   ]
  },
  {
   "cell_type": "code",
   "execution_count": 12,
   "metadata": {},
   "outputs": [
    {
     "name": "stdout",
     "output_type": "stream",
     "text": [
      "Number of tweets in test: 3785\n"
     ]
    }
   ],
   "source": [
    "# only using\n",
    "test_tweets = len(sp_test_d)\n",
    "print('Number of tweets in test: {}'.format(test_tweets))"
   ]
  },
  {
   "cell_type": "code",
   "execution_count": 13,
   "metadata": {},
   "outputs": [
    {
     "name": "stdout",
     "output_type": "stream",
     "text": [
      "Number of tweets in comparison: 2200\n"
     ]
    }
   ],
   "source": [
    "# not checking length of tweets in 5 identical ones\n",
    "test_founds = len(com)\n",
    "print('Number of tweets in comparison: {}'.format(test_founds))"
   ]
  },
  {
   "cell_type": "code",
   "execution_count": null,
   "metadata": {},
   "outputs": [],
   "source": []
  },
  {
   "cell_type": "code",
   "execution_count": 9,
   "metadata": {},
   "outputs": [],
   "source": [
    "# encoding differences are from the missing 1500 tweets?"
   ]
  },
  {
   "cell_type": "code",
   "execution_count": 14,
   "metadata": {},
   "outputs": [
    {
     "data": {
      "text/plain": [
       "dict_keys([('test', '1574'), ('train', '3716')])"
      ]
     },
     "execution_count": 14,
     "metadata": {},
     "output_type": "execute_result"
    }
   ],
   "source": [
    "com[1000].keys()"
   ]
  },
  {
   "cell_type": "code",
   "execution_count": 15,
   "metadata": {},
   "outputs": [
    {
     "name": "stdout",
     "output_type": "stream",
     "text": [
      "Positive tweets: 1854\n",
      "\trepresent 0.8427272727272728 percent of test set\n",
      "Negative tweets: 233\n",
      "\trepresent 0.10590909090909091 percent of test set\n",
      "Neutral tweets: 113\n",
      "\trepresent 0.05136363636363636 percent of test set\n"
     ]
    }
   ],
   "source": [
    "pos = 0\n",
    "neg = 0\n",
    "neu = 0\n",
    "tups = []\n",
    "\n",
    "for k in com:\n",
    "    for source in com[k]:\n",
    "        if source[0]!= 'test':\n",
    "            val = com[k][source]['sentiment']\n",
    "            \n",
    "            tups.append('{}\\t{}\\t{}'.format('meta',k,val))\n",
    "            tts = com[k][source]['tweet_tokens']\n",
    "            tls = com[k][source]['tweet_langs']\n",
    "            for i in range(len(tts)):\n",
    "                tups.append('{}\\t{}'.format(tts[i],tls[i]))\n",
    "            tups.append('')\n",
    "            if val.startswith('pos'):\n",
    "                pos+=1\n",
    "            elif val.startswith('neg'):\n",
    "                neg+=1\n",
    "            else:\n",
    "                neu+=1\n",
    "    \n",
    "print('Positive tweets: {}\\n\\trepresent {} percent of test set'.format(pos,pos/len(com)))\n",
    "print('Negative tweets: {}\\n\\trepresent {} percent of test set'.format(neg,neg/len(com)))\n",
    "print('Neutral tweets: {}\\n\\trepresent {} percent of test set'.format(neu,neu/len(com)))"
   ]
  },
  {
   "cell_type": "code",
   "execution_count": 45,
   "metadata": {},
   "outputs": [],
   "source": [
    "# possible encoding fix ??"
   ]
  },
  {
   "cell_type": "code",
   "execution_count": 46,
   "metadata": {},
   "outputs": [],
   "source": [
    "# to restore proper emoji encoding\n",
    "# https://stackoverflow.com/questions/20108312/how-can-i-restore-proper-encoding-of-4-byte-emoji-characters-that-have-been-stor"
   ]
  },
  {
   "cell_type": "code",
   "execution_count": 47,
   "metadata": {},
   "outputs": [],
   "source": [
    "out = '../data/Semeval_2020_task9_data/Spanglish/Spanglish_test_conll_labeled.txt'\n",
    "with open(out, 'w',encoding='utf-8') as fi:\n",
    "    for t in tups:\n",
    "        fi.write(t+'\\n')"
   ]
  },
  {
   "cell_type": "code",
   "execution_count": null,
   "metadata": {},
   "outputs": [],
   "source": []
  }
 ],
 "metadata": {
  "kernelspec": {
   "display_name": "Python 3",
   "language": "python",
   "name": "python3"
  },
  "language_info": {
   "codemirror_mode": {
    "name": "ipython",
    "version": 3
   },
   "file_extension": ".py",
   "mimetype": "text/x-python",
   "name": "python",
   "nbconvert_exporter": "python",
   "pygments_lexer": "ipython3",
   "version": "3.7.4"
  }
 },
 "nbformat": 4,
 "nbformat_minor": 4
}
